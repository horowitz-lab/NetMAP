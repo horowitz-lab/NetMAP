{
 "cells": [
  {
   "cell_type": "code",
   "execution_count": 1,
   "metadata": {},
   "outputs": [],
   "source": [
    "import matplotlib.pyplot as plt\n",
    "\n",
    "import sympy as sym\n",
    "from matplotlib.mlab import frange\n",
    "from numpy import sqrt"
   ]
  },
  {
   "cell_type": "code",
   "execution_count": 2,
   "metadata": {},
   "outputs": [],
   "source": [
    "m1, m2, w, k1, k2, k, x = sym.symbols('m1, m2, w, k1, k2, k, x')"
   ]
  },
  {
   "cell_type": "code",
   "execution_count": 3,
   "metadata": {},
   "outputs": [],
   "source": [
    "k2 = k1 + x"
   ]
  },
  {
   "cell_type": "code",
   "execution_count": 4,
   "metadata": {},
   "outputs": [
    {
     "data": {
      "text/plain": [
       "Matrix([\n",
       "[k + k1 - m1*w**2,                   -k],\n",
       "[              -k, k + k1 - m2*w**2 + x]])"
      ]
     },
     "execution_count": 4,
     "metadata": {},
     "output_type": "execute_result"
    }
   ],
   "source": [
    "M = sym.Matrix([[-m1*w**2 + k1 + k, -k], [-k, -m2*w**2 + k2 + k]])\n",
    "M"
   ]
  },
  {
   "cell_type": "code",
   "execution_count": 5,
   "metadata": {},
   "outputs": [
    {
     "data": {
      "text/plain": [
       "-k**2 + (k + k1 - m1*w**2)*(k + k1 - m2*w**2 + x)"
      ]
     },
     "execution_count": 5,
     "metadata": {},
     "output_type": "execute_result"
    }
   ],
   "source": [
    "M.det()"
   ]
  },
  {
   "cell_type": "code",
   "execution_count": 6,
   "metadata": {},
   "outputs": [
    {
     "data": {
      "text/plain": [
       "{-sqrt(2)*sqrt(k/m2 + k/m1 + k1/m2 + k1/m1 + x/m2 - sqrt(k**2*m1**2 + 2*k**2*m1*m2 + k**2*m2**2 + 2*k*k1*m1**2 - 4*k*k1*m1*m2 + 2*k*k1*m2**2 + 2*k*m1**2*x - 2*k*m1*m2*x + k1**2*m1**2 - 2*k1**2*m1*m2 + k1**2*m2**2 + 2*k1*m1**2*x - 2*k1*m1*m2*x + m1**2*x**2)/(m1*m2))/2, sqrt(2)*sqrt(k/m2 + k/m1 + k1/m2 + k1/m1 + x/m2 - sqrt(k**2*m1**2 + 2*k**2*m1*m2 + k**2*m2**2 + 2*k*k1*m1**2 - 4*k*k1*m1*m2 + 2*k*k1*m2**2 + 2*k*m1**2*x - 2*k*m1*m2*x + k1**2*m1**2 - 2*k1**2*m1*m2 + k1**2*m2**2 + 2*k1*m1**2*x - 2*k1*m1*m2*x + m1**2*x**2)/(m1*m2))/2, -sqrt(2)*sqrt(k/m2 + k/m1 + k1/m2 + k1/m1 + x/m2 + sqrt(k**2*m1**2 + 2*k**2*m1*m2 + k**2*m2**2 + 2*k*k1*m1**2 - 4*k*k1*m1*m2 + 2*k*k1*m2**2 + 2*k*m1**2*x - 2*k*m1*m2*x + k1**2*m1**2 - 2*k1**2*m1*m2 + k1**2*m2**2 + 2*k1*m1**2*x - 2*k1*m1*m2*x + m1**2*x**2)/(m1*m2))/2, sqrt(2)*sqrt(k/m2 + k/m1 + k1/m2 + k1/m1 + x/m2 + sqrt(k**2*m1**2 + 2*k**2*m1*m2 + k**2*m2**2 + 2*k*k1*m1**2 - 4*k*k1*m1*m2 + 2*k*k1*m2**2 + 2*k*m1**2*x - 2*k*m1*m2*x + k1**2*m1**2 - 2*k1**2*m1*m2 + k1**2*m2**2 + 2*k1*m1**2*x - 2*k1*m1*m2*x + m1**2*x**2)/(m1*m2))/2}"
      ]
     },
     "execution_count": 6,
     "metadata": {},
     "output_type": "execute_result"
    }
   ],
   "source": [
    "solution = sym.solveset(M.det(),w)\n",
    "solution"
   ]
  },
  {
   "cell_type": "code",
   "execution_count": 7,
   "metadata": {},
   "outputs": [],
   "source": [
    "del  m1, m2, w, k1, k2, k, x"
   ]
  },
  {
   "cell_type": "code",
   "execution_count": 8,
   "metadata": {
    "scrolled": true
   },
   "outputs": [
    {
     "name": "stderr",
     "output_type": "stream",
     "text": [
      "C:\\Users\\vhorowit\\AppData\\Local\\conda\\conda\\envs\\py36\\lib\\site-packages\\ipykernel_launcher.py:3: MatplotlibDeprecationWarning: numpy.arange\n",
      "  This is separate from the ipykernel package so we can avoid doing imports until\n"
     ]
    },
    {
     "data": {
      "text/plain": [
       "[<matplotlib.lines.Line2D at 0x1b122c78f60>]"
      ]
     },
     "execution_count": 8,
     "metadata": {},
     "output_type": "execute_result"
    },
    {
     "data": {
      "image/png": "[encoded data removed]",
      "text/plain": [
       "<Figure size 432x288 with 1 Axes>"
      ]
     },
     "metadata": {},
     "output_type": "display_data"
    }
   ],
   "source": [
    "\n",
    "\n",
    "x = frange(-1,1 , .1)\n",
    "#x\n",
    "\n",
    "k1 = 1 # lower is curvier, higher is larger values and straighter.\n",
    "k2 = k1 + x;\n",
    "m1 = 1 # lower moves the crossing to the right, higher moves the crossing to the left\n",
    "m2 = 1 # lower moves the crossing to the left, higher moves the crossing to the right\n",
    "k = .1; # higher makes the anti-crossing wider, lower makes the anti-crossing closer.\n",
    "\n",
    "\n",
    "\n",
    "#plt.plot(x,\n",
    "#         -sqrt(2)*sqrt(x/m2 + k/m2 + k/m1 + k1/m2 + k1/m1 - sqrt(x**2*m1**2 + 2*x*k*m1**2 - 2*x*k*m1*m2 + 2*x*k1*m1**2 - 2*x*k1*m1*m2 + k**2*m1**2 + 2*k**2*m1*m2 + k**2*m2**2 + 2*k*k1*m1**2 - 4*k*k1*m1*m2 + 2*k*k1*m2**2 + k1**2*m1**2 - 2*k1**2*m1*m2 + k1**2*m2**2)/(m1*m2))/2)\n",
    "plt.plot(x,\n",
    "         sqrt(2)*sqrt(x/m2 + k/m2 + k/m1 + k1/m2 + k1/m1 - sqrt(x**2*m1**2 + 2*x*k*m1**2 - 2*x*k*m1*m2 + 2*x*k1*m1**2 - 2*x*k1*m1*m2 + k**2*m1**2 + 2*k**2*m1*m2 + k**2*m2**2 + 2*k*k1*m1**2 - 4*k*k1*m1*m2 + 2*k*k1*m2**2 + k1**2*m1**2 - 2*k1**2*m1*m2 + k1**2*m2**2)/(m1*m2))/2)\n",
    "#plt.plot(x,\n",
    "#         -sqrt(2)*sqrt(x/m2 + k/m2 + k/m1 + k1/m2 + k1/m1 + sqrt(x**2*m1**2 + 2*x*k*m1**2 - 2*x*k*m1*m2 + 2*x*k1*m1**2 - 2*x*k1*m1*m2 + k**2*m1**2 + 2*k**2*m1*m2 + k**2*m2**2 + 2*k*k1*m1**2 - 4*k*k1*m1*m2 + 2*k*k1*m2**2 + k1**2*m1**2 - 2*k1**2*m1*m2 + k1**2*m2**2)/(m1*m2))/2,\n",
    "#        )\n",
    "plt.plot(x,\n",
    "         sqrt(2)*sqrt(x/m2 + k/m2 + k/m1 + k1/m2 + k1/m1 + sqrt(x**2*m1**2 + 2*x*k*m1**2 - 2*x*k*m1*m2 + 2*x*k1*m1**2 - 2*x*k1*m1*m2 + k**2*m1**2 + 2*k**2*m1*m2 + k**2*m2**2 + 2*k*k1*m1**2 - 4*k*k1*m1*m2 + 2*k*k1*m2**2 + k1**2*m1**2 - 2*k1**2*m1*m2 + k1**2*m2**2)/(m1*m2))/2,)"
   ]
  },
  {
   "cell_type": "code",
   "execution_count": 9,
   "metadata": {},
   "outputs": [
    {
     "data": {
      "text/plain": [
       "(A - B*x**2 + C*x**4/sigma)**0.5"
      ]
     },
     "execution_count": 9,
     "metadata": {},
     "output_type": "execute_result"
    }
   ],
   "source": [
    "A,B,C,D,sigma,sigma0, x = sym.symbols('A,B,C,D,sigma,sigma0,x')\n",
    "W = (A - B*x**2 + C*x**4/sigma)**(1/2)\n",
    "W"
   ]
  },
  {
   "cell_type": "code",
   "execution_count": 10,
   "metadata": {},
   "outputs": [
    {
     "data": {
      "text/plain": [
       "{-sigma0**2/(3*(-27*D*x**4/2 - sigma0**3 + sqrt(-4*sigma0**6 + (-27*D*x**4 - 2*sigma0**3)**2)/2)**(1/3)) + sigma0/3 - (-27*D*x**4/2 - sigma0**3 + sqrt(-4*sigma0**6 + (-27*D*x**4 - 2*sigma0**3)**2)/2)**(1/3)/3, -sigma0**2/(3*(-1/2 - sqrt(3)*I/2)*(-27*D*x**4/2 - sigma0**3 + sqrt(-4*sigma0**6 + (-27*D*x**4 - 2*sigma0**3)**2)/2)**(1/3)) + sigma0/3 - (-1/2 - sqrt(3)*I/2)*(-27*D*x**4/2 - sigma0**3 + sqrt(-4*sigma0**6 + (-27*D*x**4 - 2*sigma0**3)**2)/2)**(1/3)/3, -sigma0**2/(3*(-1/2 + sqrt(3)*I/2)*(-27*D*x**4/2 - sigma0**3 + sqrt(-4*sigma0**6 + (-27*D*x**4 - 2*sigma0**3)**2)/2)**(1/3)) + sigma0/3 - (-1/2 + sqrt(3)*I/2)*(-27*D*x**4/2 - sigma0**3 + sqrt(-4*sigma0**6 + (-27*D*x**4 - 2*sigma0**3)**2)/2)**(1/3)/3} \\ {0}"
      ]
     },
     "execution_count": 10,
     "metadata": {},
     "output_type": "execute_result"
    }
   ],
   "source": [
    "solution = sym.solveset(-sigma + sigma0 + D * x**4/ sigma**2,sigma)\n",
    "solution\n",
    "# Actually I'm using the solution from wikipedia instead. I don't know what \\{0} means."
   ]
  },
  {
   "cell_type": "code",
   "execution_count": 11,
   "metadata": {},
   "outputs": [],
   "source": [
    "del  A,B,C,D,sigma,sigma0, x, W\n",
    "#sigma = -sigma0**2/(3*(-27*D*x**4/2 - sigma0**3 + sqrt(-4*sigma0**6 + (-27*D*x**4 - 2*sigma0**3)**2)/2)**(1/3)) + sigma0/3 - (-27*D*x**4/2 - sigma0**3 + sqrt(-4*sigma0**6 + (-27*D*x**4 - 2*sigma0**3)**2)/2)**(1/3)/3\n"
   ]
  },
  {
   "cell_type": "code",
   "execution_count": 14,
   "metadata": {},
   "outputs": [],
   "source": [
    "def W(x,A,B,C,D,sigma0):\n",
    "    sigma = (sigma0 + (2**(1/3)*sigma0**2)/(2*sigma0**3 + 27*D*x**4 + 3*sqrt(3)*sqrt(4*D*sigma0**3*x**4 + 27*D**2*x**8))**(1/3) \n",
    "             + (2*sigma0**3 + 27*D*x**4 + 3*sqrt(3)*sqrt(4*D*sigma0**3*x**4 + 27*D**2*x**8))**(1/3)/2**(1/3))/3\n",
    "    W = sqrt(A - B*x**2 + C*x**4/sigma)\n",
    "    return W"
   ]
  },
  {
   "cell_type": "code",
   "execution_count": 43,
   "metadata": {},
   "outputs": [
    {
     "name": "stderr",
     "output_type": "stream",
     "text": [
      "C:\\Users\\vhorowit\\AppData\\Local\\conda\\conda\\envs\\py36\\lib\\site-packages\\ipykernel_launcher.py:1: MatplotlibDeprecationWarning: numpy.arange\n",
      "  \"\"\"Entry point for launching an IPython kernel.\n"
     ]
    },
    {
     "data": {
      "image/png": "[encoded data removed]",
      "text/plain": [
       "<Figure size 432x288 with 1 Axes>"
      ]
     },
     "metadata": {},
     "output_type": "display_data"
    }
   ],
   "source": [
    "x = frange(-5,5 , .1)\n",
    "\n",
    "A = 1; # larger: higher values and wider\n",
    "B = 1 # changes the shape.\n",
    "C = 1 #  Larger: narrower shape\n",
    "D = 1 # Changes the shape\n",
    "sigma0 = 1 # Changes the shape\n",
    "\n",
    "\n",
    "plt.plot(x, W(x,A,B,C,D,sigma0))\n",
    "\n",
    "del A, B,C, D, sigma0, x"
   ]
  },
  {
   "cell_type": "code",
   "execution_count": null,
   "metadata": {},
   "outputs": [],
   "source": []
  }
 ],
 "metadata": {
  "kernelspec": {
   "display_name": "Python 3",
   "language": "python",
   "name": "python3"
  },
  "language_info": {
   "codemirror_mode": {
    "name": "ipython",
    "version": 3
   },
   "file_extension": ".py",
   "mimetype": "text/x-python",
   "name": "python",
   "nbconvert_exporter": "python",
   "pygments_lexer": "ipython3",
   "version": "3.6.5"
  }
 },
 "nbformat": 4,
 "nbformat_minor": 2
}
