{
 "cells": [
  {
   "cell_type": "code",
   "execution_count": 1,
   "metadata": {},
   "outputs": [],
   "source": [
    "import sympy as sym"
   ]
  },
  {
   "cell_type": "code",
   "execution_count": 2,
   "metadata": {},
   "outputs": [],
   "source": [
    "m1, m2, w, k1, k2, k, dk = sym.symbols('m1, m2, w, k1, k2, k, dk')"
   ]
  },
  {
   "cell_type": "code",
   "execution_count": 3,
   "metadata": {},
   "outputs": [],
   "source": [
    "k2 = k1 + dk"
   ]
  },
  {
   "cell_type": "code",
   "execution_count": 4,
   "metadata": {},
   "outputs": [
    {
     "data": {
      "text/plain": [
       "Matrix([\n",
       "[k + k1 - m1*w**2,                    -k],\n",
       "[              -k, dk + k + k1 - m2*w**2]])"
      ]
     },
     "execution_count": 4,
     "metadata": {},
     "output_type": "execute_result"
    }
   ],
   "source": [
    "M = sym.Matrix([[-m1*w**2 + k1 + k, -k], [-k, -m2*w**2 + k2 + k]])\n",
    "M"
   ]
  },
  {
   "cell_type": "code",
   "execution_count": 5,
   "metadata": {},
   "outputs": [
    {
     "data": {
      "text/plain": [
       "-k**2 + (k + k1 - m1*w**2)*(dk + k + k1 - m2*w**2)"
      ]
     },
     "execution_count": 5,
     "metadata": {},
     "output_type": "execute_result"
    }
   ],
   "source": [
    "M.det()"
   ]
  },
  {
   "cell_type": "code",
   "execution_count": 6,
   "metadata": {},
   "outputs": [
    {
     "data": {
      "text/plain": [
       "{-sqrt(2)*sqrt(dk/m2 + k/m2 + k/m1 + k1/m2 + k1/m1 - sqrt(dk**2*m1**2 + 2*dk*k*m1**2 - 2*dk*k*m1*m2 + 2*dk*k1*m1**2 - 2*dk*k1*m1*m2 + k**2*m1**2 + 2*k**2*m1*m2 + k**2*m2**2 + 2*k*k1*m1**2 - 4*k*k1*m1*m2 + 2*k*k1*m2**2 + k1**2*m1**2 - 2*k1**2*m1*m2 + k1**2*m2**2)/(m1*m2))/2, sqrt(2)*sqrt(dk/m2 + k/m2 + k/m1 + k1/m2 + k1/m1 - sqrt(dk**2*m1**2 + 2*dk*k*m1**2 - 2*dk*k*m1*m2 + 2*dk*k1*m1**2 - 2*dk*k1*m1*m2 + k**2*m1**2 + 2*k**2*m1*m2 + k**2*m2**2 + 2*k*k1*m1**2 - 4*k*k1*m1*m2 + 2*k*k1*m2**2 + k1**2*m1**2 - 2*k1**2*m1*m2 + k1**2*m2**2)/(m1*m2))/2, -sqrt(2)*sqrt(dk/m2 + k/m2 + k/m1 + k1/m2 + k1/m1 + sqrt(dk**2*m1**2 + 2*dk*k*m1**2 - 2*dk*k*m1*m2 + 2*dk*k1*m1**2 - 2*dk*k1*m1*m2 + k**2*m1**2 + 2*k**2*m1*m2 + k**2*m2**2 + 2*k*k1*m1**2 - 4*k*k1*m1*m2 + 2*k*k1*m2**2 + k1**2*m1**2 - 2*k1**2*m1*m2 + k1**2*m2**2)/(m1*m2))/2, sqrt(2)*sqrt(dk/m2 + k/m2 + k/m1 + k1/m2 + k1/m1 + sqrt(dk**2*m1**2 + 2*dk*k*m1**2 - 2*dk*k*m1*m2 + 2*dk*k1*m1**2 - 2*dk*k1*m1*m2 + k**2*m1**2 + 2*k**2*m1*m2 + k**2*m2**2 + 2*k*k1*m1**2 - 4*k*k1*m1*m2 + 2*k*k1*m2**2 + k1**2*m1**2 - 2*k1**2*m1*m2 + k1**2*m2**2)/(m1*m2))/2}"
      ]
     },
     "execution_count": 6,
     "metadata": {},
     "output_type": "execute_result"
    }
   ],
   "source": [
    "solution = sym.solveset(M.det(),w)\n",
    "solution"
   ]
  },
  {
   "cell_type": "code",
   "execution_count": 11,
   "metadata": {},
   "outputs": [],
   "source": [
    "del  m1, m2, w, k1, k2, k, dk"
   ]
  },
  {
   "cell_type": "code",
   "execution_count": null,
   "metadata": {},
   "outputs": [],
   "source": [
    "dk = frange()"
   ]
  }
 ],
 "metadata": {
  "kernelspec": {
   "display_name": "Python 3",
   "language": "python",
   "name": "python3"
  },
  "language_info": {
   "codemirror_mode": {
    "name": "ipython",
    "version": 3
   },
   "file_extension": ".py",
   "mimetype": "text/x-python",
   "name": "python",
   "nbconvert_exporter": "python",
   "pygments_lexer": "ipython3",
   "version": "3.6.5"
  }
 },
 "nbformat": 4,
 "nbformat_minor": 2
}
