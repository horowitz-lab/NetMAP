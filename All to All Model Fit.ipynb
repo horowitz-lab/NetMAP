{
 "cells": [
  {
   "cell_type": "code",
   "execution_count": 1,
   "metadata": {},
   "outputs": [],
   "source": [
    "import sympy as sp\n",
    "sp.init_printing(use_latex ='mathjax')\n",
    "\n",
    "import matplotlib.pyplot as plt\n",
    "import numpy as np\n",
    "import math\n",
    "import seaborn as sns\n",
    "import os\n",
    "import pandas as pd\n",
    "import scipy as sc\n",
    "from sklearn.linear_model import LinearRegression\n",
    "import cython"
   ]
  },
  {
   "cell_type": "code",
   "execution_count": 3,
   "metadata": {},
   "outputs": [],
   "source": [
    "#Define column names and read csv file\n",
    "\n",
    "## Mac vs pc.\n",
    "base0 = r'\\\\cas-fs1.uoregon.edu\\Material-Science-Institute'\n",
    "#base0 = '/Volumes'\n",
    "\n",
    "base1 = os.path.join(base0,'Aleman-Lab','Group','Projects','GrapheneCoupledResonators','Data','Sample2','ResonanceCurves')\n",
    "file1 = 'Array01.00r0.5p3Device1.2Drum1Couping500/Data.csv'\n",
    "\n",
    "base2 = os.path.join(base0,'Aleman-Lab','Group','Projects','GrapheneCoupledResonators','Data','Sample2','ResonanceCurves')\n",
    "file2 = 'Array01.00r0.5p3Device1.2RandomNodeCoupling500/Data.csv'\n",
    "\n",
    "path1 = os.path.join(base1, file1)\n",
    "path2 = os.path.join(base2, file2)\n",
    "\n",
    "colnames= ['SweepVal', 'F', 'R', 'theta', 'NEP_BW', 'R_ref', 'theta_ref', 'Amp', 'Phase']\n",
    "\n",
    "df1 = pd.read_csv(path1, names = colnames)\n",
    "df2 = pd.read_csv(path2, names = colnames)"
   ]
  },
  {
   "cell_type": "code",
   "execution_count": 4,
   "metadata": {},
   "outputs": [],
   "source": [
    "#Fit linear part of phase lag to subtract from graph\n",
    "\n",
    "#Define normalized data for fitting\n",
    "maxR1 = df1['R'].max()\n",
    "df1['Rnorm'] = (df1.R) / (maxR1)\n",
    "df1['Fnorm'] = df1.F / 10**6\n",
    "df1['Rnorm2']= ((df1.R)/maxR1)**2\n",
    "\n",
    "df2['Rnorm'] = (df2.R) / (maxR1)\n",
    "df2['Fnorm'] = df2.F / 10**6\n",
    "df2['Rnorm2']= ((df2.R)/maxR1)**2\n",
    "\n",
    "#Definte linear portion of less than 15MHz for fit\n",
    "mk = df1.Fnorm < 15\n",
    "\n",
    "x1 = df1[['Fnorm']][mk]\n",
    "y1 = df1.theta[mk]\n",
    "\n",
    "x2 = df2[['Fnorm']][mk]\n",
    "y2 = df2.theta[mk]\n",
    "\n",
    "#Perform linear fit\n",
    "model1 = LinearRegression().fit(x1,y1)\n",
    "r_sq1 = model1.score(x1,y1)\n",
    "\n",
    "model2 = LinearRegression().fit(x2,y2)\n",
    "r_sq2 = model2.score(x2,y2)\n",
    "\n",
    "df1['thetaLin'] = df1.theta - model2.intercept_ - model2.coef_ * df2.Fnorm\n",
    "df1['radLin'] = df1.thetaLin * np.pi / 180\n",
    "df1['wrap'] = np.unwrap(df1.radLin)\n",
    "\n",
    "df2['thetaLin'] = df2.theta - model2.intercept_ - model2.coef_ * df2.Fnorm\n",
    "df2['radLin'] = df2.thetaLin * np.pi / 180\n",
    "df2['wrap'] = np.unwrap(df2.radLin)\n",
    "\n",
    "freq1 = df1.F.values\n",
    "amps1 = df1.Rnorm.values\n",
    "phases1 = df1.wrap.values\n",
    "\n",
    "freq2 = df2.F.values\n",
    "amps2 = df2.Rnorm.values\n",
    "phases2 = df2.wrap.values"
   ]
  },
  {
   "cell_type": "code",
   "execution_count": 5,
   "metadata": {},
   "outputs": [],
   "source": [
    "#Define all variables\n",
    "\n",
    "#individual springs that correspond to individual masses\n",
    "k1,k2 = (0.0063,0.0016)\n",
    "k3 = sp.symbols('k_3')\n",
    "\n",
    "#springs that connect two masses\n",
    "#k12, k23, k13 = (6*10**-5,0.8*10**-5,0.8*10**-5)\n",
    "k12 = (6*10**-5)\n",
    "k13, k23 = sp.symbols('k_13, k_23')\n",
    "\n",
    "#damping coefficients and forc\n",
    "g1, g2, g3 = (5*10**4,5*10**4,5*10**4)\n",
    " \n",
    "#masses\n",
    "m1, m2, m3 = (2.7*10**-17,6.8*10**-18, 2.7*10**-17)\n",
    "#m1, m2 = (2.7*10**-17,6.8*10**-18)\n",
    "#m3 = sp.symbols('m_3')\n",
    "\n",
    "#Driving force amplitude\n",
    "F = (2.5*10**-5)\n",
    "\n",
    "#driving frequency (leave as variable)\n",
    "wd = sp.symbols('\\omega_d')"
   ]
  },
  {
   "cell_type": "markdown",
   "metadata": {},
   "source": [
    "#Solve for the eigenefrequencies of steady state solutions\n",
    "\n",
    "steadyState = sp.Matrix([[(k1/m1) + (k12/m1)+ (k13/m1), -k12/m1, -k13/m1], [-(k12/\n",
    "  m2), (k2/m2) + (k12/m2) + (k23/m2), -(k23/m2)], [-k13/m3, -(k23/\n",
    "  m3), (k3/m3) + (k23/m3)+ (k13/m3)]])\n",
    "\n",
    "(e1,mult1,A), (e2,mult2,B), (e3,mult3,C)= steadyState.eigenvects()\n",
    "\n",
    "#Neglect imaginary part because it is very small\n",
    "w1, w2, w3 = (sp.sqrt(sp.re(e1)-((g1/m1)**2)/4), sp.sqrt(sp.re(e2)-((g2/m2)**2)/4), sp.sqrt(sp.re(e3)-((g3/m3)**2)/4))"
   ]
  },
  {
   "cell_type": "code",
   "execution_count": 6,
   "metadata": {},
   "outputs": [],
   "source": [
    "#Solve for driving amplitudes and phase\n",
    "\n",
    "#Matrix for complex equations of motion\n",
    "driven = sp.Matrix([[-wd**2 + 1j*wd*g1 + (k1/m1) + (k12/m1)+(k13/m1), -k12/m1, -(k13/m1)], [-k12/m2, -wd**2 + \n",
    "  1j*wd*g2 + (k2/m2) + (k12/m2) + (k23/m2), -k23/m2], [-(k13/m3), -k23/m3, -wd**2 + \n",
    "  1j*wd*g3 + (k3/m3) + (k23/m3)+ (k13/m3)]])\n",
    "\n",
    "\n",
    "#Matrices for Cramer's Rule\n",
    "driven_m1 = sp.Matrix([[F/m1, -k12/m1, -(k13/m1)], [0, -wd**2 + \n",
    "  1j*wd*g2 + (k2/m2) + (k12/m2) + (k23/m2), -k23/m2], [0, -k23/m3, -wd**2 + \n",
    "  1j*wd*g3 + (k3/m3) + (k23/m3)+ (k13/m3)]])\n",
    "\n",
    "driven_m2 = sp.Matrix([[-wd**2 + 1j*wd*g1 + (k1/m1) + (k12/m1)+(k13/m1), F/m1, -(k13/m1)], [-k12/m2, 0, -k23/m2], [-(k13/m3),0, -wd**2 + \n",
    "  1j*wd*g3 + (k3/m3) + (k23/m3)+ (k13/m3)]])\n",
    "\n",
    "driven_m3 = sp.Matrix([[-wd**2 + 1j*wd*g1 + (k1/m1) + (k12/m1)+(k13/m1), -k12/m1, F/m1], [-k12/m2, -wd**2 + \n",
    "  1j*wd*g2 + (k2/m2) + (k12/m2) + (k23/m2),0], [-(k13/m3), -k23/m3,0]])\n",
    "\n",
    "#Apply Cramer's Rule\n",
    "Cr1, Cr2, Cr3 = (driven_m1.det()/driven.det(),driven_m2.det()/driven.det(),driven_m3.det()/driven.det(),)\n",
    "\n",
    "#Solve for phases for each mass\n",
    "delta1 = sp.arg(Cr1)\n",
    "delta2 = sp.arg(Cr2)\n",
    "delta3 = sp.arg(Cr3)\n",
    "\n",
    "#Wrap phases for plots\n",
    "\n",
    "wrap1 = (delta1)%(2*np.pi)\n",
    "wrap2 = (delta2)%(2*np.pi)\n",
    "wrap3 = (delta3)%(2*np.pi)\n",
    "\n",
    "#Solve for amplitude coefficients\n",
    "amp1 = sp.re(Cr1)/sp.cos(delta1)\n",
    "amp2 = sp.re(Cr2)/sp.cos(delta2)\n",
    "amp3 = sp.re(Cr3)/sp.cos(delta3)"
   ]
  },
  {
   "cell_type": "code",
   "execution_count": 7,
   "metadata": {},
   "outputs": [],
   "source": [
    "def func(wd, k3, k13, k23):\n",
    "    return sp.lambdify((wd, k3, k13, k23),amp1)\n",
    "\n",
    "amp1_f = sp.lambdify((wd, k3, k13, k23),amp1)\n",
    "\n",
    "def func2(wd, k3, k13, k23):\n",
    "    return sp.lambdify((wd, k3, k13, k23),wrap1)\n",
    "\n",
    "phase1_f = sp.lambdify((wd, k3, k13, k23),wrap1)"
   ]
  },
  {
   "cell_type": "code",
   "execution_count": 8,
   "metadata": {},
   "outputs": [],
   "source": [
    "popt1, pcov1 = sc.optimize.curve_fit(func(wd, k3, k13, k23), freq1, amps1, p0 = (0.0063, 1*10**-5,6*10**-5), bounds=(0, [np.inf, np.inf, np.inf]))\n",
    "\n",
    "popt2, pcov2 = sc.optimize.curve_fit(func2(wd, k3, k13, k23), freq1, phases1+2*np.pi, p0 = (0.0063, 1*10**-5,6*10**-5), bounds=(0, [np.inf, np.inf, np.inf]))"
   ]
  },
  {
   "cell_type": "code",
   "execution_count": 12,
   "metadata": {},
   "outputs": [
    {
     "name": "stdout",
     "output_type": "stream",
     "text": [
      "Amp k13, k23= [6.23176174e-03 1.79770042e-05 1.29745636e-01] Phase k13, k23= [6.22922708e-03 4.67793000e-05 7.48112995e-05]\n"
     ]
    }
   ],
   "source": [
    "print ('Amp k13, k23=', popt1, 'Phase k13, k23=', popt2)"
   ]
  },
  {
   "cell_type": "code",
   "execution_count": 13,
   "metadata": {},
   "outputs": [
    {
     "data": {
      "text/plain": [
       "[<matplotlib.lines.Line2D at 0x1b0cf6d7860>]"
      ]
     },
     "execution_count": 13,
     "metadata": {},
     "output_type": "execute_result"
    },
    {
     "data": {
      "image/png": "[encoded data removed]",
      "text/plain": [
       "<Figure size 432x288 with 1 Axes>"
      ]
     },
     "metadata": {},
     "output_type": "display_data"
    }
   ],
   "source": [
    "plt.plot(freq1,amps1)\n",
    "plt.plot(freq1, amp1_f(freq1, *popt1),'g--')"
   ]
  },
  {
   "cell_type": "code",
   "execution_count": 14,
   "metadata": {},
   "outputs": [
    {
     "data": {
      "text/plain": [
       "[<matplotlib.lines.Line2D at 0x1b0cf7627b8>]"
      ]
     },
     "execution_count": 14,
     "metadata": {},
     "output_type": "execute_result"
    },
    {
     "data": {
      "image/png": "[encoded data removed]",
      "text/plain": [
       "<Figure size 432x288 with 1 Axes>"
      ]
     },
     "metadata": {},
     "output_type": "display_data"
    }
   ],
   "source": [
    "plt.plot(freq1,phases1+2*np.pi)\n",
    "plt.plot(freq1, phase1_f(freq1, *popt2),'g--')"
   ]
  },
  {
   "cell_type": "code",
   "execution_count": null,
   "metadata": {},
   "outputs": [],
   "source": [
    "def func3(wd, k3, k13, k23):\n",
    "    return sp.lambdify((wd, k3, k13, k23),amp2)\n",
    "\n",
    "amp2_f = sp.lambdify((wd, k3, k13, k23),amp2)\n",
    "\n",
    "def func4(wd, k3, k13, k23):\n",
    "    return sp.lambdify((wd, k3, k13, k23),wrap2)\n",
    "\n",
    "phase2_f = sp.lambdify((wd, k3, k13, k23),wrap2)"
   ]
  },
  {
   "cell_type": "code",
   "execution_count": null,
   "metadata": {},
   "outputs": [],
   "source": [
    "popt3, pcov3 = sc.optimize.curve_fit(func3(wd, k3, k13, k23), freq2, amps2, p0 = (0.0063, 1*10**-5,6*10**-5), bounds=(0, [np.inf, np.inf, np.inf]))\n",
    "\n",
    "popt4, pcov4 = sc.optimize.curve_fit(func4(wd, k3, k13, k23), freq2, phases2+2*np.pi, p0 = (0.0063, 1*10**-5,6*10**-5), bounds=(0, [np.inf, np.inf, np.inf]))\n",
    "\n",
    "print ('Amp k23=', popt3, 'Phase k23=', popt4)"
   ]
  },
  {
   "cell_type": "code",
   "execution_count": null,
   "metadata": {},
   "outputs": [],
   "source": [
    "plt.plot(freq2,amps2)\n",
    "plt.plot(freq2, amp2_f(freq2, *popt3),'g--')"
   ]
  },
  {
   "cell_type": "code",
   "execution_count": null,
   "metadata": {},
   "outputs": [],
   "source": [
    "plt.plot(freq2,phases2+2*np.pi)\n",
    "plt.plot(freq2, phase2_f(freq2, *popt4),'g--')"
   ]
  },
  {
   "cell_type": "code",
   "execution_count": null,
   "metadata": {},
   "outputs": [],
   "source": []
  },
  {
   "cell_type": "code",
   "execution_count": null,
   "metadata": {},
   "outputs": [],
   "source": []
  }
 ],
 "metadata": {
  "kernelspec": {
   "display_name": "Python 3",
   "language": "python",
   "name": "python3"
  },
  "language_info": {
   "codemirror_mode": {
    "name": "ipython",
    "version": 3
   },
   "file_extension": ".py",
   "mimetype": "text/x-python",
   "name": "python",
   "nbconvert_exporter": "python",
   "pygments_lexer": "ipython3",
   "version": "3.6.5"
  }
 },
 "nbformat": 4,
 "nbformat_minor": 2
}
