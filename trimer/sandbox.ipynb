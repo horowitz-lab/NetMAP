{
 "cells": [
  {
   "cell_type": "code",
   "execution_count": 1,
   "id": "8779ffc3-cede-4689-b569-e7826f5c7e1b",
   "metadata": {},
   "outputs": [],
   "source": [
    "import numpy as np"
   ]
  },
  {
   "cell_type": "code",
   "execution_count": 8,
   "id": "38b358c4-2722-4228-9b61-f78e6c2a9a55",
   "metadata": {},
   "outputs": [
    {
     "data": {
      "text/plain": [
       "array([0., 0., 0., 0., 0., 0., 0., 0., 0., 0., 0., 0., 0., 0., 0., 0., 0.,\n",
       "       0., 0., 0., 0., 0., 0., 0., 0., 0., 0., 0., 0., 0., 0., 0., 0., 0.,\n",
       "       0., 0., 0., 0., 0., 0., 0., 0., 0., 0., 0.])"
      ]
     },
     "execution_count": 8,
     "metadata": {},
     "output_type": "execute_result"
    }
   ],
   "source": [
    "data_array = np.zeros(45)\n",
    "data_array"
   ]
  },
  {
   "cell_type": "code",
   "execution_count": 9,
   "id": "d8d1bee4-9c42-4bd3-9d39-cb00637767f4",
   "metadata": {},
   "outputs": [
    {
     "data": {
      "text/plain": [
       "array([ 1,  2,  3,  4,  5,  6,  7,  8,  9, 10, 11])"
      ]
     },
     "execution_count": 9,
     "metadata": {},
     "output_type": "execute_result"
    }
   ],
   "source": [
    "a = np.array([1,2,3,4,5,6,7,8,9,10,11])\n",
    "a"
   ]
  },
  {
   "cell_type": "code",
   "execution_count": 12,
   "id": "e50dbc45-c522-4491-8e43-58953a08b585",
   "metadata": {},
   "outputs": [],
   "source": [
    "data_array[:11] = a"
   ]
  },
  {
   "cell_type": "code",
   "execution_count": 13,
   "id": "8029956e-ce27-4858-b59c-56b31b600668",
   "metadata": {},
   "outputs": [
    {
     "data": {
      "text/plain": [
       "array([ 1.,  2.,  3.,  4.,  5.,  6.,  7.,  8.,  9., 10., 11.,  0.,  0.,\n",
       "        0.,  0.,  0.,  0.,  0.,  0.,  0.,  0.,  0.,  0.,  0.,  0.,  0.,\n",
       "        0.,  0.,  0.,  0.,  0.,  0.,  0.,  0.,  0.,  0.,  0.,  0.,  0.,\n",
       "        0.,  0.,  0.,  0.,  0.,  0.])"
      ]
     },
     "execution_count": 13,
     "metadata": {},
     "output_type": "execute_result"
    }
   ],
   "source": [
    "data_array"
   ]
  },
  {
   "cell_type": "code",
   "execution_count": 14,
   "id": "85ce3ec0-9e04-4893-b7e8-ddecf5008fe0",
   "metadata": {},
   "outputs": [],
   "source": [
    "        #For labeling the excel sheet\n",
    "        param_names = ['k1_true', 'k2_true', 'k3_true', 'k4_true',      #0,1,2,3\n",
    "                       'b1_true', 'b2_true', 'b3_true',                  #4,5,6\n",
    "                       'F_true', 'm1_true', 'm2_true', 'm3_true',        #7,8,9,10\n",
    "                       'k1_guess', 'k2_guess', 'k3_guess', 'k4_guess',    #11,12,13,14\n",
    "                       'b1_guess', 'b2_guess', 'b3_guess',                  #15,16,17\n",
    "                       'F_guess', 'm1_guess', 'm2_guess', 'm3_guess',        #18,19,20,21\n",
    "                       'k1_recovered', 'k2_recovered', 'k3_recovered', 'k4_recovered', #22,23,24,25\n",
    "                       'b1_recovered', 'b2_recovered', 'b3_recovered',          #26,27,28\n",
    "                       'F_recovered', 'm1_recovered', 'm2_recovered', 'm3_recovered', #29,30,31,32\n",
    "                       'e_k1', 'e_k2', 'e_k3', 'e_k4',                       #33, 34, 35, 36\n",
    "                       'e_b1', 'e_b2', 'e_b3', 'e_F',                     #37, 38, 39, 40\n",
    "                       'e_m1', 'e_m2', 'e_m3',                            #41, 42, 43\n",
    "                       'Amp1_rsqrd', 'Amp2_rsqrd', 'Amp3_rsqrd',             #44, 45, 46\n",
    "                       'Phase1_rsqrd', 'Phase2_rsqrd', 'Phase3_rsqrd', '<e>']  #47, 48, 49, 50   So there are 51 columns"
   ]
  },
  {
   "cell_type": "code",
   "execution_count": 23,
   "id": "d16b0bd0-c8b2-4919-a00f-d5383e8944e9",
   "metadata": {},
   "outputs": [
    {
     "data": {
      "text/plain": [
       "'<e>'"
      ]
     },
     "execution_count": 23,
     "metadata": {},
     "output_type": "execute_result"
    }
   ],
   "source": [
    "param_names[50]"
   ]
  },
  {
   "cell_type": "code",
   "execution_count": null,
   "id": "64c99666-e696-4772-bc58-4b9e8c25672f",
   "metadata": {},
   "outputs": [],
   "source": []
  }
 ],
 "metadata": {
  "kernelspec": {
   "display_name": "Python 3 (ipykernel)",
   "language": "python",
   "name": "python3"
  },
  "language_info": {
   "codemirror_mode": {
    "name": "ipython",
    "version": 3
   },
   "file_extension": ".py",
   "mimetype": "text/x-python",
   "name": "python",
   "nbconvert_exporter": "python",
   "pygments_lexer": "ipython3",
   "version": "3.10.14"
  }
 },
 "nbformat": 4,
 "nbformat_minor": 5
}
