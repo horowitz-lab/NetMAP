{
 "cells": [
  {
   "cell_type": "code",
   "execution_count": 1,
   "metadata": {},
   "outputs": [],
   "source": [
    "%matplotlib inline\n",
    "\n",
    "import matplotlib.pyplot as plt\n",
    "import numpy as np\n",
    "import pandas as pd\n",
    "import lmfit as lf\n",
    "import os\n",
    "import seaborn as sns\n",
    "\n",
    "sns.set_context('paper') # makes text larger (poster) or smaller (paper)\n",
    "\n",
    "from lmfit.models import DampedOscillatorModel"
   ]
  },
  {
   "cell_type": "code",
   "execution_count": 2,
   "metadata": {},
   "outputs": [],
   "source": [
    "\"\"\"Import files from Folder\"\"\"\n",
    "\n",
    "## Mac vs Windows\n",
    "#base = '/Volumes/Aleman-Lab/Group/Projects/GrapheneCoupledResonators/Data/Sample2/ResonanceCurves/'\n",
    "#savefolder = '/Volumes/Aleman-Lab/Group/Papers and Abstracts/Coupled Resonator Spatial Imaging/Figures/python_exports/'\n",
    "base = r'\\\\cas-fs1.uoregon.edu\\Material-Science-Institute\\Aleman-Lab\\Group\\Projects\\GrapheneCoupledResonators\\Data\\Sample2\\ResonanceCurves'\n",
    "savefolder = r'\\\\cas-fs1.uoregon.edu\\Material-Science-Institute\\Aleman-Lab\\Group\\Papers and Abstracts\\Coupled Resonator Spatial Imaging\\Figures\\python_exports'\n",
    "\n",
    "path = os.path.join(base, 'Array01.00r0.5p3Device0.0Drum1_2','Data.csv')"
   ]
  },
  {
   "cell_type": "code",
   "execution_count": 3,
   "metadata": {},
   "outputs": [
    {
     "data": {
      "text/plain": [
       "Text(0.5, 1.0, 'Response Curve')"
      ]
     },
     "execution_count": 3,
     "metadata": {},
     "output_type": "execute_result"
    },
    {
     "data": {
      "image/png": "[encoded data removed]",
      "text/plain": [
       "<Figure size 432x288 with 1 Axes>"
      ]
     },
     "metadata": {},
     "output_type": "display_data"
    }
   ],
   "source": [
    "\"\"\"Define column names and plot response curve\"\"\"\n",
    "\n",
    "\n",
    "colnames = ['SweepVal', 'F', 'R', 'theta', 'NEP_BW', 'R_ref', 'theta_ref', 'Amp', 'Phase']\n",
    "\n",
    "df = pd.read_csv(path, names = colnames)\n",
    "\n",
    "fig, ax = plt.subplots()\n",
    "ax.plot(df.F, df.R, 'o')\n",
    "\n",
    "ax.set_xlabel('Frequency Hz')\n",
    "ax.set_ylabel('Amplitude')\n",
    "ax.set_title('Response Curve')"
   ]
  },
  {
   "cell_type": "code",
   "execution_count": 4,
   "metadata": {},
   "outputs": [],
   "source": [
    "\"\"\"Find resonant frequency and normalize F and R^2 values\"\"\"\n",
    "\n",
    "\n",
    "maxR = df['R'].max()\n",
    "maxFreqIn = (df['R'].idxmax())\n",
    "\n",
    "df['Rnorm'] = (df.R) / (maxR)\n",
    "df['Fnorm'] = df.F / 10**6\n",
    "\n",
    "res = df['Fnorm'].values[maxFreqIn]"
   ]
  },
  {
   "cell_type": "code",
   "execution_count": 5,
   "metadata": {},
   "outputs": [
    {
     "data": {
      "text/plain": [
       "['amplitude', 'center', 'sigma']"
      ]
     },
     "execution_count": 5,
     "metadata": {},
     "output_type": "execute_result"
    }
   ],
   "source": [
    "\"\"\"Define Model\"\"\"\n",
    "\n",
    "\n",
    "model = DampedOscillatorModel()\n",
    "\n",
    "model.param_names"
   ]
  },
  {
   "cell_type": "code",
   "execution_count": 6,
   "metadata": {
    "scrolled": true
   },
   "outputs": [
    {
     "name": "stdout",
     "output_type": "stream",
     "text": [
      "[[Model]]\n",
      "    Model(damped_oscillator)\n",
      "[[Fit Statistics]]\n",
      "    # fitting method   = leastsq\n",
      "    # function evals   = 38\n",
      "    # data points      = 500\n",
      "    # variables        = 3\n",
      "    chi-square         = 0.49057225\n",
      "    reduced chi-square = 9.8707e-04\n",
      "    Akaike info crit   = -3457.39540\n",
      "    Bayesian info crit = -3444.75158\n",
      "[[Variables]]\n",
      "    amplitude:  0.00262682 +/- 3.2061e-05 (1.22%) (init = 6.35345e-05)\n",
      "    center:     15.7344337 +/- 4.1184e-04 (0.00%) (init = 15.73948)\n",
      "    sigma:      0.00135019 +/- 2.6667e-05 (1.98%) (init = 0.0005)\n",
      "    height:     0.97275742 +/- 0.01158454 (1.19%) == '0.5000000*amplitude/max(2.220446049250313e-16, sigma)'\n",
      "    fwhm:       0.07359350 +/- 0.00145355 (1.98%) == 'sqrt(abs(center**2*(1-2*sigma**2)+(2*sqrt(center**4*sigma**2*(sigma**2+3)))))-sqrt(abs(center**2*(1-2*sigma**2)-(2*sqrt(center**4*sigma**2*(sigma**2+3)))))'\n",
      "[[Correlations]] (unreported correlations are < 0.100)\n",
      "    C(amplitude, sigma) =  0.824\n"
     ]
    },
    {
     "data": {
      "image/png": "[encoded data removed]",
      "text/plain": [
       "<Figure size 90x82.8 with 1 Axes>"
      ]
     },
     "metadata": {},
     "output_type": "display_data"
    }
   ],
   "source": [
    "\"\"\"Fit data with Damped Oscillator Model\"\"\"\n",
    "\n",
    "\n",
    "guessQ = 1000\n",
    "\n",
    "params = model.make_params(sigma = 1/(2*guessQ), center = res, amplitude = 1 / (guessQ*res))\n",
    "\n",
    "result = model.fit(df.Rnorm, params, x = df.Fnorm)\n",
    "\n",
    "fig, ax = plt.subplots(figsize=(1.25,1.15))\n",
    "sty = {'markersize':4, \"lw\":1}\n",
    "ax.plot(df.Fnorm, df.Rnorm, '.', color='#276419' , **sty )\n",
    "ax.plot(df.Fnorm, result.best_fit, '-k', **sty)\n",
    "\n",
    "ax.set_xlabel('Frequency (MHz)')\n",
    "ax.set_ylabel('Amplitude')\n",
    "#ax.set_title('Response Curve')\n",
    "\n",
    "fig.savefig(os.path.join(savefolder,'ResonanceCurveAndFit.pdf'), bbox_inches= 'tight', pad_inches=0.05)\n",
    "\n",
    "print(result.fit_report())"
   ]
  },
  {
   "cell_type": "code",
   "execution_count": 7,
   "metadata": {},
   "outputs": [
    {
     "name": "stdout",
     "output_type": "stream",
     "text": [
      "370.3176137322335 213.801934587851\n"
     ]
    }
   ],
   "source": [
    "\"\"\"Caluculate Quality Factor\"\"\"\n",
    "\n",
    "\n",
    "Q = 1/(2*result.params['sigma'].value)\n",
    "\n",
    "Q1 = result.params['center'].value/(result.params['fwhm'].value)\n",
    "\n",
    "print(Q, Q1)"
   ]
  },
  {
   "cell_type": "code",
   "execution_count": 8,
   "metadata": {},
   "outputs": [
    {
     "name": "stdout",
     "output_type": "stream",
     "text": [
      "0.07359350473862492 0.0027003846506827855\n"
     ]
    }
   ],
   "source": [
    "print (result.params['fwhm'].value, 2*result.params['sigma'].value)"
   ]
  },
  {
   "cell_type": "code",
   "execution_count": null,
   "metadata": {},
   "outputs": [],
   "source": []
  }
 ],
 "metadata": {
  "kernelspec": {
   "display_name": "Python 3",
   "language": "python",
   "name": "python3"
  },
  "language_info": {
   "codemirror_mode": {
    "name": "ipython",
    "version": 3
   },
   "file_extension": ".py",
   "mimetype": "text/x-python",
   "name": "python",
   "nbconvert_exporter": "python",
   "pygments_lexer": "ipython3",
   "version": "3.6.5"
  }
 },
 "nbformat": 4,
 "nbformat_minor": 2
}
