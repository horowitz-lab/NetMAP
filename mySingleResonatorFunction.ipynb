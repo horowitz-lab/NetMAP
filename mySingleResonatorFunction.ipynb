{
 "cells": [
  {
   "cell_type": "code",
   "execution_count": 1,
   "metadata": {},
   "outputs": [],
   "source": [
    "import sympy as sp\n",
    "import numpy as np"
   ]
  },
  {
   "cell_type": "code",
   "execution_count": 2,
   "metadata": {},
   "outputs": [],
   "source": [
    "#Define all variables\n",
    "\n",
    "k = sp.symbols('k', real = True)\n",
    "g = sp.symbols('g', real = True)\n",
    "m = sp.symbols('m', real = True)\n",
    "F = sp.symbols('F', real = True)\n",
    "\n",
    "#driving frequency (leave as variable)\n",
    "wd = sp.symbols('\\omega_d', real = True)\n",
    "\n",
    "#Solve for driving amplitudes and phase\n",
    "\n",
    "#Matrix for complex equations of motion\n",
    "driven = sp.Matrix([-wd**2*m + 1j*wd*g + k])\n",
    "\n",
    "#Matrices for Cramer's Rule\n",
    "driven_m1 = sp.Matrix([F])\n",
    "\n",
    "#Apply Cramer's Rule\n",
    "Cr1 = driven_m1.det()/driven.det()\n",
    "\n",
    "#Solve for phases for each mass\n",
    "delta = sp.arg(Cr1)\n",
    "\n",
    "#Wrap phases for plots\n",
    "wrap = (delta)%(2*np.pi)\n",
    "\n",
    "#Solve for amplitude coefficients\n",
    "amp = sp.sqrt(Cr1*sp.conjugate(Cr1))\n",
    "\n",
    "#lambdify curves\n",
    "\n",
    "c1 = sp.lambdify((wd, k, g, F, m), amp)\n",
    "t1 = sp.lambdify((wd, k, g, F,  m), wrap)\n",
    "\n",
    "#define functions\n",
    "\n",
    "def curve1(w, k_, g_,F_, m_):\n",
    "     return c1(w, k_, g_, F_, m_,)\n",
    "    \n",
    "def theta1(w, k_, g_, F_, m_):\n",
    "     return t1(w, k_, g_, F_, m_) - 2*np.pi"
   ]
  },
  {
   "cell_type": "code",
   "execution_count": 7,
   "metadata": {},
   "outputs": [
    {
     "name": "stdout",
     "output_type": "stream",
     "text": [
      "/bin/sh: nbconvert: command not found\r\n"
     ]
    }
   ],
   "source": [
    "!nbconvert --to script mySingleResonatorFunction.py"
   ]
  },
  {
   "cell_type": "code",
   "execution_count": null,
   "metadata": {},
   "outputs": [],
   "source": []
  }
 ],
 "metadata": {
  "kernelspec": {
   "display_name": "Python 3",
   "language": "python",
   "name": "python3"
  },
  "language_info": {
   "codemirror_mode": {
    "name": "ipython",
    "version": 3
   },
   "file_extension": ".py",
   "mimetype": "text/x-python",
   "name": "python",
   "nbconvert_exporter": "python",
   "pygments_lexer": "ipython3",
   "version": "3.6.8"
  }
 },
 "nbformat": 4,
 "nbformat_minor": 2
}
