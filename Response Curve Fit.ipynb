{
 "cells": [
  {
   "cell_type": "code",
   "execution_count": 8,
   "metadata": {},
   "outputs": [],
   "source": [
    "%matplotlib inline\n",
    "\n",
    "import matplotlib.pyplot as plt\n",
    "import numpy as np\n",
    "import pandas as pd\n",
    "import lmfit as lf\n",
    "import os\n",
    "\n",
    "from lmfit.models import DampedOscillatorModel"
   ]
  },
  {
   "cell_type": "code",
   "execution_count": 30,
   "metadata": {},
   "outputs": [],
   "source": [
    "\"\"\"Import files from Folder\"\"\"\n",
    "\n",
    "\n",
    "base = '/Volumes/Aleman-Lab/Group/Projects/GrapheneCoupledResonators/Data/Sample2/ResonanceCurves/'\n",
    "\n",
    "path = os.path.join(base, 'Array0.101r0.35p1.4Device2.0Drum2/Data.csv')"
   ]
  },
  {
   "cell_type": "code",
   "execution_count": 31,
   "metadata": {},
   "outputs": [
    {
     "data": {
      "text/plain": [
       "Text(0.5,1,'Response Curve')"
      ]
     },
     "execution_count": 31,
     "metadata": {},
     "output_type": "execute_result"
    },
    {
     "data": {
      "image/png": "[encoded data removed]",
      "text/plain": [
       "<Figure size 432x288 with 1 Axes>"
      ]
     },
     "metadata": {},
     "output_type": "display_data"
    }
   ],
   "source": [
    "\"\"\"Define column names and plot response curve\"\"\"\n",
    "\n",
    "\n",
    "colnames = ['SweepVal', 'F', 'R', 'theta', 'NEP_BW', 'R_ref', 'theta_ref', 'Amp', 'Phase']\n",
    "\n",
    "df = pd.read_csv(path, names = colnames)\n",
    "\n",
    "fig, ax = plt.subplots()\n",
    "ax.plot(df.F, df.R, 'o')\n",
    "\n",
    "ax.set_xlabel('Frequency Hz')\n",
    "ax.set_ylabel('Amplitude')\n",
    "ax.set_title('Response Curve')"
   ]
  },
  {
   "cell_type": "code",
   "execution_count": 32,
   "metadata": {},
   "outputs": [],
   "source": [
    "\"\"\"Find resonant frequency and normalize F and R^2 values\"\"\"\n",
    "\n",
    "\n",
    "maxR = df['R'].max()\n",
    "maxFreqIn = (df['R'].idxmax())\n",
    "\n",
    "df['Rnorm'] = (df.R) / (maxR)\n",
    "df['Fnorm'] = df.F / 10**6\n",
    "\n",
    "res = df['Fnorm'].values[maxFreqIn]"
   ]
  },
  {
   "cell_type": "code",
   "execution_count": 33,
   "metadata": {},
   "outputs": [
    {
     "data": {
      "text/plain": [
       "['sigma', 'center', 'amplitude']"
      ]
     },
     "execution_count": 33,
     "metadata": {},
     "output_type": "execute_result"
    }
   ],
   "source": [
    "\"\"\"Define Model\"\"\"\n",
    "\n",
    "\n",
    "model = DampedOscillatorModel()\n",
    "\n",
    "model.param_names"
   ]
  },
  {
   "cell_type": "code",
   "execution_count": 41,
   "metadata": {
    "scrolled": true
   },
   "outputs": [
    {
     "name": "stdout",
     "output_type": "stream",
     "text": [
      "[[Model]]\n",
      "    Model(damped_oscillator)\n",
      "[[Fit Statistics]]\n",
      "    # fitting method   = leastsq\n",
      "    # function evals   = 61\n",
      "    # data points      = 200\n",
      "    # variables        = 3\n",
      "    chi-square         = 0.27544777\n",
      "    reduced chi-square = 0.00139821\n",
      "    Akaike info crit   = -1311.53492\n",
      "    Bayesian info crit = -1301.63997\n",
      "[[Variables]]\n",
      "    sigma:      0.00257234 +/- 1.5661e-04 (6.09%) (init = 0.0005)\n",
      "    center:     26.5486192 +/- 0.00470797 (0.02%) (init = 26.55779)\n",
      "    amplitude:  0.00504657 +/- 1.9500e-04 (3.86%) (init = 3.765374e-05)\n",
      "    height:     0.98093044 +/- 0.03651769 (3.72%) == '0.5000000*amplitude/max(1.e-15, sigma)'\n",
      "    fwhm:       0.23657494 +/- 0.01440961 (6.09%) == 'sqrt(abs(center**2*(1-2*sigma**2)+(2*sqrt(center**4*sigma**2*(sigma**2+3)))))-sqrt(abs(center**2*(1-2*sigma**2)-(2*sqrt(center**4*sigma**2*(sigma**2+3)))))'\n",
      "[[Correlations]] (unreported correlations are < 0.100)\n",
      "    C(sigma, amplitude) =  0.811\n",
      "    C(sigma, center)    =  0.130\n",
      "\n"
     ]
    },
    {
     "data": {
      "image/png": "[encoded data removed]",
      "text/plain": [
       "<Figure size 432x288 with 1 Axes>"
      ]
     },
     "metadata": {},
     "output_type": "display_data"
    }
   ],
   "source": [
    "\"\"\"Fit data with Damped Oscillator Model\"\"\"\n",
    "\n",
    "\n",
    "guessQ = 1000\n",
    "\n",
    "params = model.make_params(sigma = 1/(2*guessQ), center = res, amplitude = 1 / (guessQ*res))\n",
    "\n",
    "result = model.fit(df.Rnorm, params, x = df.Fnorm)\n",
    "\n",
    "fig, ax = plt.subplots()\n",
    "ax.plot(df.Fnorm, df.Rnorm, 'o', df.Fnorm, result.best_fit, 'r-')\n",
    "\n",
    "ax.set_xlabel('Frequency MHz')\n",
    "ax.set_ylabel('(Amplitude)^2')\n",
    "ax.set_title('Response Curve')\n",
    "\n",
    "print(result.fit_report())"
   ]
  },
  {
   "cell_type": "code",
   "execution_count": 42,
   "metadata": {},
   "outputs": [
    {
     "name": "stdout",
     "output_type": "stream",
     "text": [
      "194.37548628018143 112.22075908641891\n"
     ]
    }
   ],
   "source": [
    "\"\"\"Caluculate Quality Factor\"\"\"\n",
    "\n",
    "\n",
    "Q = 1/(2*result.params['sigma'].value)\n",
    "\n",
    "Q1 = result.params['center'].value/(result.params['fwhm'].value)\n",
    "\n",
    "print(Q, Q1)"
   ]
  },
  {
   "cell_type": "code",
   "execution_count": 43,
   "metadata": {},
   "outputs": [
    {
     "name": "stdout",
     "output_type": "stream",
     "text": [
      "0.23657493904606142 0.005144681662987871\n"
     ]
    }
   ],
   "source": [
    "print (result.params['fwhm'].value, 2*result.params['sigma'].value)"
   ]
  },
  {
   "cell_type": "code",
   "execution_count": null,
   "metadata": {},
   "outputs": [],
   "source": []
  }
 ],
 "metadata": {
  "kernelspec": {
   "display_name": "Python 3",
   "language": "python",
   "name": "python3"
  },
  "language_info": {
   "codemirror_mode": {
    "name": "ipython",
    "version": 3
   },
   "file_extension": ".py",
   "mimetype": "text/x-python",
   "name": "python",
   "nbconvert_exporter": "python",
   "pygments_lexer": "ipython3",
   "version": "3.6.5"
  }
 },
 "nbformat": 4,
 "nbformat_minor": 2
}
