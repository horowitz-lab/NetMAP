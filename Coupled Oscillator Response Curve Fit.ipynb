{
 "cells": [
  {
   "cell_type": "code",
   "execution_count": 1,
   "metadata": {},
   "outputs": [],
   "source": [
    "%matplotlib inline\n",
    "\n",
    "import matplotlib.pyplot as plt\n",
    "import numpy as np\n",
    "import pandas as pd\n",
    "import lmfit as lf\n",
    "import os\n",
    "import seaborn as sns\n",
    "\n",
    "sns.set_context('paper') # makes text larger (poster) or smaller (paper)\n",
    "\n",
    "from lmfit.models import DampedOscillatorModel"
   ]
  },
  {
   "cell_type": "code",
   "execution_count": 2,
   "metadata": {},
   "outputs": [],
   "source": [
    "\"\"\"Import files from Folder\"\"\"\n",
    "\n",
    "\n",
    "base = '/Volumes/Aleman-Lab/Group/Projects/GrapheneCoupledResonators/Data/Sample2/ResonanceCurves/'\n",
    "\n",
    "path = os.path.join(base, 'Array01.00r0.5p3Device1.2Drum1Couping500/Data.csv')"
   ]
  },
  {
   "cell_type": "code",
   "execution_count": 4,
   "metadata": {},
   "outputs": [
    {
     "data": {
      "image/png": "[encoded data removed]",
      "text/plain": [
       "<Figure size 90x82.8 with 1 Axes>"
      ]
     },
     "metadata": {
      "needs_background": "light"
     },
     "output_type": "display_data"
    }
   ],
   "source": [
    "\"\"\"Define column names and plot response curve\"\"\"\n",
    "\n",
    "\n",
    "colnames = ['SweepVal', 'F', 'R', 'theta', 'NEP_BW', 'R_ref', 'theta_ref', 'Amp', 'Phase']\n",
    "\n",
    "df = pd.read_csv(path, names = colnames)\n",
    "\n",
    "maxR = df['R'].max()\n",
    "df['Rnorm'] = (df.R) / (maxR)\n",
    "df['Fnorm'] = df.F / 10**6\n",
    "\n",
    "fig, ax = plt.subplots(figsize=(1.25,1.15))\n",
    "sty = {'markersize':4}\n",
    "ax.plot(df.Fnorm, (df.Rnorm), '.', color=('#276419'),**sty)\n",
    "\n",
    "ax.set_xlabel('Frequency (MHz)')\n",
    "ax.set_ylabel('Amplitude')\n",
    "#ax.set_title('Response Curve')\n",
    "\n",
    "#fig.savefig('/Volumes/Aleman-Lab/Group/Papers and Abstracts/Coupled Resonator Spatial Imaging/Figures/python_exports/NormalModeSplitCurve.png')\n",
    "fig.savefig('/Volumes/Aleman-Lab/Group/Papers and Abstracts/Coupled Resonator Spatial Imaging/Figures/python_exports/NormalModeSplitCurve.svg', format='svg', dpi=1200,  bbox_inches= 'tight', pad_inches=0.05)\n",
    "fig.savefig('/Volumes/Aleman-Lab/Group/Papers and Abstracts/Coupled Resonator Spatial Imaging/Figures/python_exports/NormalModeSplitCurve.pdf', bbox_inches= 'tight', pad_inches=0.05)\n",
    "\n",
    "#fig.set_size_inches(18.5, 10.5, forward=True)"
   ]
  },
  {
   "cell_type": "code",
   "execution_count": 4,
   "metadata": {},
   "outputs": [
    {
     "data": {
      "text/plain": [
       "Text(0.5, 1.0, 'Response Curve')"
      ]
     },
     "execution_count": 4,
     "metadata": {},
     "output_type": "execute_result"
    },
    {
     "data": {
      "image/png": "[encoded data removed]",
      "text/plain": [
       "<Figure size 432x288 with 1 Axes>"
      ]
     },
     "metadata": {
      "needs_background": "light"
     },
     "output_type": "display_data"
    }
   ],
   "source": [
    "\"\"\"Normalize F and R^2 values\"\"\"\n",
    "\n",
    "maxR = df['R'].max()\n",
    "\n",
    "df['Rnorm'] = (df.R) / (maxR)\n",
    "df['Fnorm'] = df.F / 10**6\n",
    "df['Rnorm2']= ((df.R)/maxR)**2\n",
    "\n",
    "fig, ax = plt.subplots()\n",
    "ax.plot(df.Fnorm, df.Rnorm2, 'o')\n",
    "\n",
    "ax.set_xlabel('Frequency MHz')\n",
    "ax.set_ylabel('Amplitude^2')\n",
    "ax.set_title('Response Curve')"
   ]
  },
  {
   "cell_type": "code",
   "execution_count": 6,
   "metadata": {},
   "outputs": [
    {
     "name": "stdout",
     "output_type": "stream",
     "text": [
      "311\n"
     ]
    }
   ],
   "source": [
    "\"\"\"Find resonant frequency of first peak\"\"\"\n",
    "s = df['Fnorm'] < 15.2\n",
    "a = df['Fnorm'] > 15.4\n",
    "\n",
    "maxR1 = df[s]['R'].max()\n",
    "maxR2 = df[a]['R'].max()\n",
    "\n",
    "maxFreqIn1 = (df[s]['R'].idxmax())\n",
    "maxFreqIn2 = (df[a]['R'].idxmax())\n",
    "\n",
    "res1 = df['Fnorm'].values[maxFreqIn1]\n",
    "res2 = df['Fnorm'].values[maxFreqIn2]\n",
    "\n",
    "print (maxFreqIn2)"
   ]
  },
  {
   "cell_type": "code",
   "execution_count": 7,
   "metadata": {},
   "outputs": [
    {
     "name": "stdout",
     "output_type": "stream",
     "text": [
      "['p1_sigma', 'p1_center', 'p1_amplitude']\n",
      "['p2_sigma', 'p2_center', 'p2_amplitude']\n"
     ]
    }
   ],
   "source": [
    "\"\"\"Define Model\"\"\"\n",
    "\n",
    "\n",
    "peak1 = DampedOscillatorModel(prefix = 'p1_')\n",
    "peak2 = DampedOscillatorModel(prefix = 'p2_') \n",
    "\n",
    "print (peak1.param_names)\n",
    "print (peak2.param_names)"
   ]
  },
  {
   "cell_type": "code",
   "execution_count": 29,
   "metadata": {},
   "outputs": [
    {
     "name": "stdout",
     "output_type": "stream",
     "text": [
      "[[Model]]\n",
      "    (Model(damped_oscillator, prefix='p1_') + Model(damped_oscillator, prefix='p2_'))\n",
      "[[Fit Statistics]]\n",
      "    # fitting method   = leastsq\n",
      "    # function evals   = 190\n",
      "    # data points      = 500\n",
      "    # variables        = 6\n",
      "    chi-square         = 1.57843965\n",
      "    reduced chi-square = 0.00319522\n",
      "    Akaike info crit   = -2867.08565\n",
      "    Bayesian info crit = -2841.79800\n",
      "[[Variables]]\n",
      "    p1_sigma:      0.00147416 +/- 9.4414e-05 (6.40%) (init = 0.0005)\n",
      "    p1_center:     15.2152724 +/- 0.00125988 (0.01%) (init = 15.19739)\n",
      "    p1_amplitude:  0.00174430 +/- 7.7458e-05 (4.44%) (init = 6.580075e-05)\n",
      "    p1_height:     0.59162725 +/- 0.02034759 (3.44%) == '0.5000000*p1_amplitude/max(1.e-15, p1_sigma)'\n",
      "    p1_fwhm:       0.07769924 +/- 0.00497674 (6.41%) == 'sqrt(abs(p1_center**2*(1-2*p1_sigma**2)+(2*sqrt(p1_center**4*p1_sigma**2*(p1_sigma**2+3)))))-sqrt(abs(p1_center**2*(1-2*p1_sigma**2)-(2*sqrt(p1_center**4*p1_sigma**2*(p1_sigma**2+3)))))'\n",
      "    p2_sigma:      0.00107403 +/- 5.0886e-05 (4.74%) (init = 0.0005)\n",
      "    p2_center:     15.4303669 +/- 6.8851e-04 (0.00%) (init = 15.19739)\n",
      "    p2_amplitude:  0.00199354 +/- 6.5387e-05 (3.28%) (init = 6.580075e-05)\n",
      "    p2_height:     0.92806434 +/- 0.02366239 (2.55%) == '0.5000000*p2_amplitude/max(1.e-15, p2_sigma)'\n",
      "    p2_fwhm:       0.05740958 +/- 0.00271992 (4.74%) == 'sqrt(abs(p2_center**2*(1-2*p2_sigma**2)+(2*sqrt(p2_center**4*p2_sigma**2*(p2_sigma**2+3)))))-sqrt(abs(p2_center**2*(1-2*p2_sigma**2)-(2*sqrt(p2_center**4*p2_sigma**2*(p2_sigma**2+3)))))'\n",
      "[[Correlations]] (unreported correlations are < 0.100)\n",
      "    C(p1_sigma, p1_amplitude)     =  0.860\n",
      "    C(p2_sigma, p2_amplitude)     =  0.859\n",
      "    C(p1_amplitude, p2_amplitude) = -0.594\n",
      "    C(p1_amplitude, p2_sigma)     = -0.442\n",
      "    C(p1_sigma, p2_amplitude)     = -0.441\n",
      "    C(p1_sigma, p2_sigma)         = -0.317\n",
      "    C(p1_center, p2_amplitude)    = -0.109\n",
      "\n"
     ]
    },
    {
     "data": {
      "image/png": "[encoded data removed]",
      "text/plain": [
       "<Figure size 432x288 with 1 Axes>"
      ]
     },
     "metadata": {},
     "output_type": "display_data"
    }
   ],
   "source": [
    "\"\"\"Fit data with Damped Oscillator Model\"\"\"\n",
    "\n",
    "\n",
    "guessQ = 1000\n",
    "\n",
    "params1 = peak1.make_params(p1_sigma = 1/(2*guessQ), p1_center = res1, p1_amplitude = 1 / (guessQ*res1))\n",
    "params2 = peak2.make_params(p2_sigma = 1/(2*guessQ), p2_center = res1, p2_amplitude = 1 / (guessQ*res1))\n",
    "\n",
    "params = params1 +params2\n",
    "\n",
    "model = peak1 + peak2\n",
    "\n",
    "result = model.fit(df.Rnorm, params, x = df.Fnorm)\n",
    "\n",
    "fig, ax = plt.subplots()\n",
    "ax.plot(df.Fnorm, df.Rnorm, 'o', df.Fnorm, result.best_fit, 'r-')\n",
    "\n",
    "ax.set_xlabel('Frequency MHz')\n",
    "ax.set_ylabel('(Amplitude)')\n",
    "ax.set_title('Response Curve')\n",
    "\n",
    "print(result.fit_report())"
   ]
  },
  {
   "cell_type": "code",
   "execution_count": 17,
   "metadata": {},
   "outputs": [
    {
     "name": "stdout",
     "output_type": "stream",
     "text": [
      "339.1767776740507 465.53663408475455\n"
     ]
    }
   ],
   "source": [
    "\"\"\"Caluculate Quality Factor\"\"\"\n",
    "\n",
    "\n",
    "Q1 = 1/(2*result.params['p1_sigma'].value)\n",
    "Q2 = 1/(2*result.params['p2_sigma'].value)\n",
    "\n",
    "print(Q1, Q2)"
   ]
  },
  {
   "cell_type": "code",
   "execution_count": 18,
   "metadata": {},
   "outputs": [
    {
     "name": "stdout",
     "output_type": "stream",
     "text": [
      "195.82266907612072 268.77687421448695\n"
     ]
    }
   ],
   "source": [
    "\"\"\"Caluculate Quality Factor\"\"\"\n",
    "\n",
    "\n",
    "Q1 = result.params['p1_center'].value/(result.params['p1_fwhm'].value)\n",
    "Q2 = result.params['p2_center'].value/(result.params['p2_fwhm'].value)\n",
    "\n",
    "print(Q1, Q2)"
   ]
  },
  {
   "cell_type": "code",
   "execution_count": 19,
   "metadata": {},
   "outputs": [
    {
     "name": "stdout",
     "output_type": "stream",
     "text": [
      "77.69923895190622 57.4095780522601\n"
     ]
    }
   ],
   "source": [
    "\"\"\"Caluculate linewidth in kHz\"\"\"\n",
    "\n",
    "\n",
    "Q1 = (result.params['p1_fwhm'].value)*10**3\n",
    "Q2 = (result.params['p2_fwhm'].value)*10**3\n",
    "\n",
    "print(Q1, Q2)"
   ]
  },
  {
   "cell_type": "code",
   "execution_count": null,
   "metadata": {},
   "outputs": [],
   "source": [
    "\"\"\"Normalize F and R^2 values\"\"\"\n",
    "\n",
    "maxR = df['R'].max()\n",
    "\n",
    "df['Rnorm'] = (df.R) / (maxR)\n",
    "df['Fnorm'] = df.F / 10**6\n",
    "df['Rnorm2']= ((df.R)/maxR)**2\n",
    "\n",
    "fig, ax = plt.subplots()\n",
    "ax.plot(df.Fnorm, df.Rnorm2, 'o')\n",
    "\n",
    "ax.set_xlabel('Frequency MHz')\n",
    "ax.set_ylabel('Amplitude^2')\n",
    "ax.set_title('Response Curve')"
   ]
  },
  {
   "cell_type": "code",
   "execution_count": 37,
   "metadata": {},
   "outputs": [
    {
     "name": "stdout",
     "output_type": "stream",
     "text": [
      "311\n"
     ]
    }
   ],
   "source": [
    "\"\"\"Find resonant frequency of first peak\"\"\"\n",
    "s = df['Fnorm'] < 15.2\n",
    "a = df['Fnorm'] > 15.4\n",
    "\n",
    "maxR1 = df[s]['R'].max()**2\n",
    "maxR2 = df[a]['R'].max()**2\n",
    "\n",
    "maxFreqIn1 = (df[s]['R'].idxmax())\n",
    "maxFreqIn2 = (df[a]['R'].idxmax())\n",
    "\n",
    "res1 = df['Fnorm'].values[maxFreqIn1]\n",
    "res2 = df['Fnorm'].values[maxFreqIn2]\n",
    "\n",
    "print (maxFreqIn2)"
   ]
  },
  {
   "cell_type": "code",
   "execution_count": 38,
   "metadata": {},
   "outputs": [
    {
     "name": "stdout",
     "output_type": "stream",
     "text": [
      "['p1_sigma', 'p1_center', 'p1_amplitude']\n",
      "['p2_sigma', 'p2_center', 'p2_amplitude']\n"
     ]
    }
   ],
   "source": [
    "peak1 = DampedOscillatorModel(prefix = 'p1_')\n",
    "peak2 = DampedOscillatorModel(prefix = 'p2_') \n",
    "\n",
    "print (peak1.param_names)\n",
    "print (peak2.param_names)"
   ]
  },
  {
   "cell_type": "code",
   "execution_count": 41,
   "metadata": {},
   "outputs": [
    {
     "name": "stdout",
     "output_type": "stream",
     "text": [
      "[[Model]]\n",
      "    (Model(damped_oscillator, prefix='p1_') + Model(damped_oscillator, prefix='p2_'))\n",
      "[[Fit Statistics]]\n",
      "    # fitting method   = leastsq\n",
      "    # function evals   = 3358\n",
      "    # data points      = 500\n",
      "    # variables        = 6\n",
      "    chi-square         = 3.03572236\n",
      "    reduced chi-square = 0.00614519\n",
      "    Akaike info crit   = -2540.07935\n",
      "    Bayesian info crit = -2514.79170\n",
      "[[Variables]]\n",
      "    p1_sigma:      0.00122392 +/- 6.9469e-05 (5.68%) (init = 0.0005)\n",
      "    p1_center:     15.4377183 +/- 7.2745e-04 (0.00%) (init = 15.19739)\n",
      "    p1_amplitude:  6.23296216 +/-        nan (nan%) (init = 6.580075e-05)\n",
      "    p1_height:     2546.32074 +/- 245.661054 (9.65%) == '0.5000000*p1_amplitude/max(1.e-15, p1_sigma)'\n",
      "    p1_fwhm:       0.06545259 +/- 0.00631357 (9.65%) == 'sqrt(abs(p1_center**2*(1-2*p1_sigma**2)+(2*sqrt(p1_center**4*p1_sigma**2*(p1_sigma**2+3)))))-sqrt(abs(p1_center**2*(1-2*p1_sigma**2)-(2*sqrt(p1_center**4*p1_sigma**2*(p1_sigma**2+3)))))'\n",
      "    p2_sigma:      0.00122411 +/- 7.0575e-05 (5.77%) (init = 0.0005)\n",
      "    p2_center:    -15.4377226 +/-        nan (nan%) (init = 15.19739)\n",
      "    p2_amplitude: -6.23184289 +/-        nan (nan%) (init = 6.580075e-05)\n",
      "    p2_height:    -2545.45504 +/- 10155.3585 (398.96%) == '0.5000000*p2_amplitude/max(1.e-15, p2_sigma)'\n",
      "    p2_fwhm:       0.06546311 +/- 0.26120766 (399.02%) == 'sqrt(abs(p2_center**2*(1-2*p2_sigma**2)+(2*sqrt(p2_center**4*p2_sigma**2*(p2_sigma**2+3)))))-sqrt(abs(p2_center**2*(1-2*p2_sigma**2)-(2*sqrt(p2_center**4*p2_sigma**2*(p2_sigma**2+3)))))'\n",
      "[[Correlations]] (unreported correlations are < 0.100)\n",
      "    C(p1_sigma, p2_sigma)  =  4.556\n",
      "    C(p1_sigma, p1_center) = -3.390\n",
      "    C(p1_center, p2_sigma) =  2.938\n",
      "\n"
     ]
    },
    {
     "data": {
      "image/png": "[encoded data removed]",
      "text/plain": [
       "<Figure size 432x288 with 1 Axes>"
      ]
     },
     "metadata": {},
     "output_type": "display_data"
    }
   ],
   "source": [
    "\"\"\"Fit data with Damped Oscillator Model\"\"\"\n",
    "\n",
    "\n",
    "guessQ = 1000\n",
    "\n",
    "params1 = peak1.make_params(p1_sigma = 1/(2*guessQ), p1_center = res1, p1_amplitude = 1 / (guessQ*res1))\n",
    "params2 = peak2.make_params(p2_sigma = 1/(2*guessQ), p2_center = res1, p2_amplitude = 1 / (guessQ*res1))\n",
    "\n",
    "params = params1 +params2\n",
    "\n",
    "model = peak1 + peak2\n",
    "\n",
    "result = model.fit(df.Rnorm2, params, x = df.Fnorm)\n",
    "\n",
    "fig, ax = plt.subplots()\n",
    "ax.plot(df.Fnorm, df.Rnorm2, 'o', df.Fnorm, result.best_fit, 'r-')\n",
    "\n",
    "ax.set_xlabel('Frequency MHz')\n",
    "ax.set_ylabel('(Amplitude^2)')\n",
    "ax.set_title('Response Curve')\n",
    "\n",
    "print(result.fit_report())"
   ]
  },
  {
   "cell_type": "code",
   "execution_count": 40,
   "metadata": {},
   "outputs": [
    {
     "name": "stdout",
     "output_type": "stream",
     "text": [
      "65.45259310429863 65.46311398026461\n"
     ]
    }
   ],
   "source": [
    "\"\"\"Caluculate linewidth in kHz\"\"\"\n",
    "\n",
    "\n",
    "Q1 = (result.params['p1_fwhm'].value)*10**3\n",
    "Q2 = (result.params['p2_fwhm'].value)*10**3\n",
    "\n",
    "print(Q1, Q2)"
   ]
  },
  {
   "cell_type": "code",
   "execution_count": null,
   "metadata": {},
   "outputs": [],
   "source": []
  }
 ],
 "metadata": {
  "kernelspec": {
   "display_name": "Python 3",
   "language": "python",
   "name": "python3"
  },
  "language_info": {
   "codemirror_mode": {
    "name": "ipython",
    "version": 3
   },
   "file_extension": ".py",
   "mimetype": "text/x-python",
   "name": "python",
   "nbconvert_exporter": "python",
   "pygments_lexer": "ipython3",
   "version": "3.6.5"
  }
 },
 "nbformat": 4,
 "nbformat_minor": 2
}
