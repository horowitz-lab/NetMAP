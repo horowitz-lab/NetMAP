{
 "cells": [
  {
   "cell_type": "code",
   "execution_count": 1,
   "metadata": {},
   "outputs": [],
   "source": [
    "import pandas as pd \n",
    "import os \n",
    "import matplotlib.pyplot as plt \n",
    "import numpy as np \n",
    "import seaborn as sns\n",
    "\n",
    "# Mac vs Windows\n",
    "#folder = '/Volumes/Aleman-Lab/Group/Projects/Graphene Coupled Resonators/Data/Sample 2/2019/2019/08/09/'\n",
    "folder = r'\\\\cas-fs1.uoregon.edu\\Material-Science-Institute\\Aleman-Lab\\Group\\Projects\\GrapheneCoupledResonators\\Data\\Sample2\\2019\\2019\\08\\09'\n"
   ]
  },
  {
   "cell_type": "code",
   "execution_count": 2,
   "metadata": {},
   "outputs": [],
   "source": [
    "file = 'PosGU01Array01.00r0.5p3Array01.00r0.5p3Device1.2Drum_15.16MHz_1104325' \n",
    "path = os.path.join(folder,file)\n",
    "df = pd.read_csv(os.path.join(path, 'Demod1.csv'), skiprows = 2) \n",
    "#df.r = df.r/df.r.max() \n",
    "#print(df) "
   ]
  },
  {
   "cell_type": "code",
   "execution_count": null,
   "metadata": {},
   "outputs": [
    {
     "data": {
      "text/plain": [
       "<matplotlib.axes._subplots.AxesSubplot at 0x2c9c55e87f0>"
      ]
     },
     "execution_count": 3,
     "metadata": {},
     "output_type": "execute_result"
    }
   ],
   "source": [
    "df['rlog'] = np.log10(df.r) \n",
    "df['X um']=df['Green X'].round(2)\n",
    "df['Y um']= df['Green Y'].round(2)\n",
    "p = df.pivot_table(index = 'Y um', columns = 'X um', values = 'r').sort_index(axis = 0, ascending = False) \n",
    "sns.heatmap(p)"
   ]
  },
  {
   "cell_type": "code",
   "execution_count": null,
   "metadata": {},
   "outputs": [],
   "source": [
    "df['rlog'] = np.log10(df.r) \n",
    "df['X um']=df['Green X'].round(2)\n",
    "df['Y um']= df['Green Y'].round(2)\n",
    "p = df.pivot_table(index = 'Y um', columns = 'X um', values = 'phase').sort_index(axis = 0, ascending = False) \n",
    "sns.heatmap(p)"
   ]
  },
  {
   "cell_type": "code",
   "execution_count": null,
   "metadata": {},
   "outputs": [],
   "source": [
    "file = 'PosGU01Array01.00r0.5p3Array01.00r0.5p3Device1.2Drum1_15.5MHz105133' \n",
    "path = os.path.join(folder,file)\n",
    "df = pd.read_csv(os.path.join(path, 'Demod1.csv'), skiprows = 2) \n",
    "#df.r = df.r/df.r.max() \n",
    "#print(df) "
   ]
  },
  {
   "cell_type": "code",
   "execution_count": null,
   "metadata": {},
   "outputs": [],
   "source": [
    "df['rlog'] = np.log10(df.r) \n",
    "df['X um']=df['Green X'].round(2)\n",
    "df['Y um']= df['Green Y'].round(2)\n",
    "p = df.pivot_table(index = 'Y um', columns = 'X um', values = 'r').sort_index(axis = 0, ascending = False) \n",
    "sns.heatmap(p)"
   ]
  },
  {
   "cell_type": "code",
   "execution_count": null,
   "metadata": {},
   "outputs": [],
   "source": [
    "df['rlog'] = np.log10(df.r) \n",
    "df['X um']=df['Green X'].round(2)\n",
    "df['Y um']= df['Green Y'].round(2)\n",
    "p = df.pivot_table(index = 'Y um', columns = 'X um', values = 'phase').sort_index(axis = 0, ascending = False) \n",
    "sns.heatmap(p)"
   ]
  },
  {
   "cell_type": "code",
   "execution_count": null,
   "metadata": {},
   "outputs": [],
   "source": []
  }
 ],
 "metadata": {
  "kernelspec": {
   "display_name": "Python 3",
   "language": "python",
   "name": "python3"
  },
  "language_info": {
   "codemirror_mode": {
    "name": "ipython",
    "version": 3
   },
   "file_extension": ".py",
   "mimetype": "text/x-python",
   "name": "python",
   "nbconvert_exporter": "python",
   "pygments_lexer": "ipython3",
   "version": "3.6.5"
  }
 },
 "nbformat": 4,
 "nbformat_minor": 2
}
